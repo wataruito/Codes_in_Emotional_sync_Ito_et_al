{
 "cells": [
  {
   "cell_type": "markdown",
   "id": "a570e6d6-3a93-49fb-8896-2a0da70ab9a8",
   "metadata": {},
   "source": [
    "# Social synchronization of conditioned fear in mice requires ventral hippocampus input to amygdala\n",
    "Running title: Emotional synchronization in mice<BR>\n",
    "Wataru Ito*, Alexei Morozov*\n",
    "\n",
    "This document describes the codes in the manuscript and how to run them using an example video.\n",
    "    \n",
    "# Set up the Python environment\n",
    "Conda and pip configured the Python environment. We describe here installation only on Windows 10 PC. The lines preceded by # are comment lines. The installation procedure was tested on 11/10/2021 using a freshly installed Win10 PC, version 20H2, which does not contain any non-standard hardware. Typical install time is about less than one hour with introductory knowledge on Win10 operating system, python, conda, pip and GitHub. Reproducing result from an example video requires introductory knowledge on Jupyter Notebook or Lab.\n",
    "\n",
    "#### 1. Install Windows apps\n",
    "1. Miniconda<BR>\n",
    "Download the binary and install it as described on the web<BR>\n",
    "https://docs.conda.io/en/latest/miniconda.html#windows-installers\n",
    "2. node.js<BR>\n",
    "Download Nodo.js from https://nodejs.org/en/download/\n",
    "3. ffmpeg<BR>\n",
    "    a) Download ffmpeg-git-full.7z from https://www.gyan.dev/ffmpeg/builds/<BR>\n",
    "    b) Move the folder `ffmpeg-2021-11-07-git-45dc668aea-full_build` to `C:\\Program Files`.<BR>\n",
    "    (The folder name might be different depending the timing of download.)<BR>\n",
    "    c) Set the system path.<BR>\n",
    "    Click `Windows Start button` and type \"env\". Click the `Edit the system environment variables`.<BR>\n",
    "    \n",
    "    <img src=\"img/Screenshot 2021-11-10 170410.png\" width=200px><BR>\n",
    "    \n",
    "    Click `Environment Variables...`.<BR>\n",
    "    \n",
    "    <img src=\"img/Screenshot 2021-11-10 170711.png\" width=300px><BR>\n",
    "    \n",
    "    Select \"Path\" in the lower \"System variables\" panel and Click `Edit...`<BR>\n",
    "\n",
    "    <img src=\"img/Screenshot 2021-11-10 171038.png\" width=300px><BR>\n",
    "    \n",
    "    Click `New` and enter the path as shown below.<BR>\n",
    "    \n",
    "    <img src=\"img/Screenshot 2021-11-10 141544.png\" width=300px><BR>   \n",
    "    \n",
    "#### 2. Open the Anaconda prompt and follow the sequence below.\n",
    "1. In the Anaconda prompt\n",
    "\n",
    "```python\n",
    "# anaconda, python 3.8 for MATLAB engine for python\n",
    "conda update -n base -c defaults conda\n",
    "conda create --name jl2\n",
    "conda activate jl2\n",
    "conda install python=3.8 anaconda\n",
    "```\n",
    "\n",
    "```python\n",
    "jupyter labextension install @jupyter-widgets/jupyterlab-manager\n",
    "jupyter labextension install jupyter-matplotlib\n",
    "jupyter nbextension list\n",
    "```\n",
    "\n",
    "```python \n",
    "# Install other packages for video process\n",
    "pip install opencv-contrib-python\n",
    "pip install ffmpeg-python\n",
    "```\n",
    "\n",
    "#### 3. Download the codes and start Jupyter Lab\n",
    "1. Go to https://github.com/wataruito/Codes_in_Emotional_sync_Ito_et_al\n",
    "2. Select the \"Code/Download ZIP\"<BR>\n",
    "    \n",
    "<img src=\"img/Screenshot 2021-11-10 145736.png\" width=400px><BR>\n",
    "    \n",
    "3. Extract the downloaded zip file.\n",
    "4. Place the `Codes_in_Emotional_sync_Ito_et_al-main` folder to an appropriate place.\n",
    "\n",
    "\n",
    "#### 4. In the opened the Anaconda prompt   \n",
    "1. Change the current directory into the `Codes_in_Emotional_sync_Ito_et_al-main` folder.\n",
    "2. Start Jupyter Lab.\n",
    "    \n",
    "```python\n",
    "jupyter lab python_codes_in_manuscript.ipynb\n",
    "```\n",
    "    \n",
    "Follow \"1. Set the root path\" in the opened notebook. Execution of each cell takes less than a second. "
   ]
  },
  {
   "cell_type": "markdown",
   "id": "000af565-8854-40d9-985b-faa6d17e0710",
   "metadata": {},
   "source": [
    "---\n",
    "# 1. Set the root path\n",
    "Set the current path as an absolute path."
   ]
  },
  {
   "cell_type": "code",
   "execution_count": 1,
   "id": "f8c4058d-41e2-435e-b970-93cd0a1afd46",
   "metadata": {},
   "outputs": [],
   "source": [
    "# You need to specify current path as the root path.\n",
    "# If you put the \"Codes_in_Emotional_sync_Ito_et_al-main\" folder in C:/Users/User,\n",
    "# root_path = r'C:\\Users\\User\\Codes_in_Emotional_sync_Ito_et_al-main'\n",
    "\n",
    "root_path = r'W:\\wataru\\jupyter\\synchro_freeze\\Codes_in_Emotional_sync_Ito_et_al'"
   ]
  },
  {
   "cell_type": "markdown",
   "id": "bd2dfd23-0e84-43b9-a2d3-8406df949963",
   "metadata": {},
   "source": [
    "# 2. Convert Freezeframe video to mp4 format\n",
    "#### 1. Export AVI file using FreezeFrame Viewer\n",
    "    1) install FreezeFrameInstaller4104.zip\n",
    "    2) in FreezeFrame Viewer\n",
    "        Video/Compress Image Files, as AVI file, using MJPEG Compressor\n",
    "#### Or copy `m7ab.avi` file from `videos_processed\\exp1` to `videos\\exp1`\n",
    "`videos_processed\\exp1` folder contains all processed data analyzed by the following python scripts.\n",
    "\n",
    "#### 2. Convert avi to mp4\n",
    "The following script rotates and converts all AVI videos inside the specified folder."
   ]
  },
  {
   "cell_type": "code",
   "execution_count": 2,
   "id": "583e4950-836c-403d-bca6-09bc3e70923a",
   "metadata": {},
   "outputs": [
    {
     "name": "stdout",
     "output_type": "stream",
     "text": [
      "['m7ab.avi']\n",
      "file =  W:\\wataru\\jupyter\\synchro_freeze\\Codes_in_Emotional_sync_Ito_et_al\\videos\\exp1\\m7ab.avi ---> output =  W:\\wataru\\jupyter\\synchro_freeze\\Codes_in_Emotional_sync_Ito_et_al\\videos\\exp1\\m7ab.mp4\n",
      "end\n"
     ]
    }
   ],
   "source": [
    "# Specify Windows path of the folder, which has the exported avi files.\n",
    "r_path = r'videos\\exp1'\n",
    "\n",
    "import os\n",
    "import ffmpeg\n",
    "\n",
    "path = os.path.join(root_path, r_path)\n",
    "os.chdir(path)\n",
    "print(os.listdir(path))\n",
    "\n",
    "for file in os.listdir(path):\n",
    "    base = os.path.splitext(file)[0]\n",
    "    extn = os.path.splitext(file)[1]\n",
    "    if extn == '.avi':\n",
    "        # !ffmpeg -i {file} -vf \"transpose=2,transpose=2\" -vcodec libx264 {base}.mp4\n",
    "        fileIN = os.path.join(path,file)\n",
    "        print('file = ', fileIN, end = ' ')\n",
    "        stream = ffmpeg.input(fileIN)\n",
    "        stream = ffmpeg.hflip(stream)\n",
    "        stream = ffmpeg.vflip(stream)\n",
    "        fileOUT = os.path.join(path,base) + '.mp4'\n",
    "        print('---> output = ', fileOUT)\n",
    "        stream = ffmpeg.output(stream, fileOUT, vcodec='libx264')\n",
    "        ffmpeg.run(stream)\n",
    "print('end')"
   ]
  },
  {
   "cell_type": "markdown",
   "id": "80781dbc-67f8-43fb-ad9d-f95ccd42514a",
   "metadata": {},
   "source": [
    "In this case, it generates `videos\\exp1\\m7ab.mp4`."
   ]
  },
  {
   "cell_type": "markdown",
   "id": "e4a52613-d782-486d-b81c-c82b3f4bb303",
   "metadata": {},
   "source": [
    "# 3. Manual annotation of videos for the onset and offset of freezing \n",
    "\n",
    "Videoplay is designed as an interactive video annotator through keyboard inputs. For example, a user can move forward and backward the movie frames, select the target subject to be annotated, and mark the start and end video frames for each freezing bout.  \n",
    "\n",
    "**Short description of keyboard controls:**\n",
    "```\n",
    "<Video control>\n",
    "w: start palying\n",
    "s: stop playing\n",
    "a: step back a frame\n",
    "d: step forward a frame\n",
    "A: step back <frame_jump> frames\n",
    "D: step forward <frame_jump> frames\n",
    "~: set <frame_jump> parameter\n",
    "q: increase playback speed\n",
    "e: decrease playback speed\n",
    "\n",
    "<Tracking trajectories>\n",
    "0: drug mode\n",
    "1: sub1 click mode\n",
    "2: sub2 click mode\n",
    "\n",
    "<Annotate freezing>\n",
    "!: set target sub1\n",
    "@: set target sub2\n",
    "j: start freezing\n",
    "k: end freezing\n",
    "    \n",
    "<Quit>\n",
    "Esc\n",
    "````\n",
    "\n"
   ]
  },
  {
   "cell_type": "code",
   "execution_count": 3,
   "id": "cee4a6e9-365c-41e9-be1a-39bccdc8740d",
   "metadata": {},
   "outputs": [
    {
     "name": "stdout",
     "output_type": "stream",
     "text": [
      "Video resolution: (236, 304, 3)\n",
      "total frame number: 722\n",
      "\tWriting _m7ab_track_freeze.csv\n",
      "\tWriting _m7ab_freeze.csv\n"
     ]
    }
   ],
   "source": [
    "import videoplay as vp\n",
    "\n",
    "# Specify Windows path of the MP4 movie file.\n",
    "r_path = r'videos\\exp1\\m7ab.mp4'\n",
    "path = os.path.join(root_path, r_path)\n",
    "\n",
    "vp.video_cursor(path,3)"
   ]
  },
  {
   "cell_type": "markdown",
   "id": "4606c10e-bbd5-4b5d-9780-b94b2eeb4c59",
   "metadata": {},
   "source": [
    "After quitting Videoplay by Esc key, it generates `videos\\exp1\\_m7ab_track_freeze.csv` and `videos\\exp1\\_m7ab_freeze.csv`."
   ]
  },
  {
   "cell_type": "markdown",
   "id": "d5575f72-af0a-4353-a103-3da517e270db",
   "metadata": {},
   "source": [
    "# 4. Manually modify the output CSV files from Videoplay\n",
    "The Videoplay outputs a csv file, `videos\\exp1\\_m7ab_freeze.csv`. If you complete the annotation for the entire movie, it looks as follows. If you want to skip the annotation by yourself, simply copy `videos_processed\\exp1\\_m7ab_freeze.csv`.<BR>\n",
    "    \n",
    "<img src=\"img/Screenshot 2021-11-10 174415.png\" width=300px><BR>\n",
    "\n",
    "Modify the csv file  manually as below and save as `videos\\exp1\\m7ab.csv`.\n",
    "       \n",
    "<img src=\"img/Screenshot 2021-11-10 175024.png\" width=400px><BR>"
   ]
  },
  {
   "cell_type": "markdown",
   "id": "9585b3a9-c93e-411f-9538-fbfb6fdfcc31",
   "metadata": {},
   "source": [
    "# 5. Compute freezing duration for each animal and freezing overlap for each dyad.\n",
    "\n",
    "The following script processes all csv files inside the specified folder (Here, you have only one csv file).\n",
    "The root folder `videos` can contain multiple experiment folders, `exp1`, `exp2` .... Each experiment folder\n",
    "contains the CSV files, including the freezing onset and offset for two subjects as described in 4."
   ]
  },
  {
   "cell_type": "code",
   "execution_count": 4,
   "id": "70b2fe4b-9342-46e3-ae5b-9ad98cf2faaf",
   "metadata": {
    "scrolled": true,
    "tags": []
   },
   "outputs": [
    {
     "name": "stdout",
     "output_type": "stream",
     "text": [
      "Step1. Reading CSV files from subfolders.\n",
      "\tProcessing directory:  exp1,  completed.\n",
      "\tWriting summary.csv.\n",
      "Step2. Reading trajectory CSV files from subfolders.\n",
      "\tProcessing directory:  exp1,  completed.\n",
      "\tWriting summary_traj.csv.\n",
      "Step3. Computing % epoch time.\n",
      "\tWriting summary1.csv.\n",
      "Step4. Computing permutation/Cohen_D and store in DF.\n",
      "\tProcessing column:  0/1,  completed.\n",
      "\tWriting summary2.csv.\n"
     ]
    }
   ],
   "source": [
    "import synchro_freeze as sf\n",
    "import traceback\n",
    "import os\n",
    "\n",
    "# Specify Windows path of the parent folder for experiments.\n",
    "r_path = r'videos'\n",
    "path = os.path.join(root_path, r_path)\n",
    "\n",
    "DEBUG = False\n",
    "df = sf.process_freeze(path,DEBUG)"
   ]
  },
  {
   "cell_type": "markdown",
   "id": "56525f71-a6ef-46c2-b23b-bbd7ff544f03",
   "metadata": {},
   "source": [
    "The script generates `videos\\summary2.csv` that is the final output. The format is as follows.\n",
    "\n",
    "|folder_videoname|single_animal|video_system|video_total_frames|fz_start_sub1|fz_end_sub1|fz_start_sub2|fz_end_sub2|fz_sub1|fz_sub2|fz_overlap|cohen_d|\n",
    "|---|---|---|---|---|---|---|---|---|---|---|---|\n",
    "|str|bool|str|int|int array|int array|int array|int array|float|float|float|float|\n",
    "\n",
    "|column label|description|\n",
    "|-|-|\n",
    "|fz_start_sub1, fz_start_sub2|freezing onset frame number|\n",
    "|fz_end_sub1, fz_end_sub2|freezing offset frame number|\n",
    "|fz_sub1, fz_sub2|% freezing time|\n",
    "|fz_overlap|% freezing overlap time|\n",
    "|cohen_d|Cohen's D effect size|"
   ]
  },
  {
   "cell_type": "markdown",
   "id": "9f4f1b30-f1ce-4b35-8613-bc3a2288e968",
   "metadata": {},
   "source": [
    "# 6. Display freezing overlap\n",
    "#### 1. Identify the folder ID."
   ]
  },
  {
   "cell_type": "code",
   "execution_count": 5,
   "id": "40e5531c-f20b-444a-a841-89de984163e1",
   "metadata": {
    "scrolled": true
   },
   "outputs": [
    {
     "name": "stdout",
     "output_type": "stream",
     "text": [
      "We found the following Foldername_videoname.\n",
      "\n",
      "\t 0 exp1_m7ab\n",
      "\n",
      "Select the Foldername_videoname ID number and run the next cell\n"
     ]
    }
   ],
   "source": [
    "print(\"We found the following Foldername_videoname.\\n\")\n",
    "for i in range (0, len(df)):\n",
    "    print(\"\\t\", i, df.iloc[i,0])\n",
    "\n",
    "print(\"\\nSelect the Foldername_videoname ID number and run the next cell\")"
   ]
  },
  {
   "cell_type": "markdown",
   "id": "c3ec5664-1001-41bc-adfa-de4b1c3a84f2",
   "metadata": {},
   "source": [
    "#### 2. Set the number left next the \"exp1_m7ab\" as folderID, and draw the graph."
   ]
  },
  {
   "cell_type": "code",
   "execution_count": 6,
   "id": "eedcda2b-01f8-4f7c-acbe-008c2def0a38",
   "metadata": {},
   "outputs": [
    {
     "name": "stdout",
     "output_type": "stream",
     "text": [
      "Folder name: exp1_m7ab\n",
      "Animal1 freeze : 21.250000\n",
      "Animal2 freeze : 51.041667\n",
      "Overlap freeze : 19.791667\n"
     ]
    },
    {
     "data": {
      "image/png": "[encoded data removed]",
      "text/plain": [
       "<Figure size 1200x400 with 1 Axes>"
      ]
     },
     "metadata": {},
     "output_type": "display_data"
    }
   ],
   "source": [
    "folderID = 0\n",
    "output = True\n",
    "video_system = 'FreezeFrame'\n",
    "\n",
    "(a,b,c,d) = sf.overlap_freezing(df.iloc[folderID,:], path, output)"
   ]
  },
  {
   "cell_type": "markdown",
   "id": "3763bf22-f9f4-413d-a10e-3db102b35397",
   "metadata": {},
   "source": [
    "From the top to bottom, the freezing timelines from Animal1, Animal2 and Overlap. x - axis is in sec.<BR>\n",
    "This script also generate eps file, `videos\\exp1\\overlap_fig.eps`. You can use for making figures."
   ]
  }
 ],
 "metadata": {
  "kernelspec": {
   "display_name": "Python 3",
   "language": "python",
   "name": "python3"
  },
  "language_info": {
   "codemirror_mode": {
    "name": "ipython",
    "version": 3
   },
   "file_extension": ".py",
   "mimetype": "text/x-python",
   "name": "python",
   "nbconvert_exporter": "python",
   "pygments_lexer": "ipython3",
   "version": "3.8.8"
  }
 },
 "nbformat": 4,
 "nbformat_minor": 5
}
