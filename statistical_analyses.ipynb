{
 "cells": [
  {
   "cell_type": "markdown",
   "id": "22479a26-be67-46b0-83dc-a61c72e14d69",
   "metadata": {},
   "source": [
    "# Social synchronization of conditioned fear in mice requires ventral hippocampus input to amygdala\n",
    "Running title: Emotional synchronization in mice<BR>\n",
    "Wataru Ito*, Alexei Morozov*\n",
    "\n",
    "\n",
    "# Statistical Analyses of Freezing Synchrony\n",
    "This document describes the codes for the statistical analyses in the manuscript.\n",
    "\n",
    "# Set up DABEST\n",
    "\n",
    "We used **DABEST** (Data Analysis with Bootstrap-coupled ESTimation) to compute the confidence intervals and make the graphs. Please refer the paper for details, \"Moving beyond P values: data analysis with estimation graphics\".\n",
    "https://www.nature.com/articles/s41592-019-0470-3\n",
    "\n",
    "**Other links for DABEST:**<BR>\n",
    "1. DABEST document main page (including tutorials)<BR>\n",
    "https://acclab.github.io/DABEST-python-docs/index.html<BR>\n",
    "2. GitHub: ACCLAB/DABEST-python<BR>\n",
    "https://github.com/ACCLAB/DABEST-python<BR>\n",
    "3. An article in OpenBehavior: \"DABEST and permuco\"<BR>\n",
    "https://edspace.american.edu/openbehavior/project/dabest-and-permuco/<BR>\n",
    "\n",
    "#### 1. Open the Anaconda prompt and follow the sequence below.\n",
    "Activate the conda environment created in the \"python_codes_in_manuscript.ipynb\", install dabest package via pip.\n",
    "\n",
    "```python\n",
    "# Select the env you created in the \"python_codes_in_manuscript.ipynb\"\n",
    "conda activate jl2\n",
    "pip install --upgrade dabest\n",
    "```\n",
    "\n",
    "#### 2. In the opened Anaconda prompt   \n",
    "1. Change the current directory into the `Codes_in_Emotional_sync_Ito_et_al-main` folder.\n",
    "2. Start Jupyter Lab.\n",
    "    \n",
    "```python\n",
    "jupyter lab statistical_analyses.ipynb\n",
    "```\n",
    "\n",
    "Follow the cells in the opened notebook. Execution of each cell takes less than a couple of second. "
   ]
  },
  {
   "cell_type": "markdown",
   "id": "69343293-ab8f-446c-a338-60075059d7cf",
   "metadata": {},
   "source": [
    "---\n",
    "# Load DABEST"
   ]
  },
  {
   "cell_type": "code",
   "execution_count": 1,
   "id": "6d637a4e-f065-4c16-91a1-b3779e05c6b2",
   "metadata": {
    "tags": []
   },
   "outputs": [
    {
     "name": "stdout",
     "output_type": "stream",
     "text": [
      "We're using DABEST v0.3.1\n"
     ]
    }
   ],
   "source": [
    "import numpy as np\n",
    "import pandas as pd\n",
    "from matplotlib import pyplot as plt\n",
    "import dabest\n",
    "\n",
    "print(\"We're using DABEST v{}\".format(dabest.__version__))"
   ]
  },
  {
   "cell_type": "markdown",
   "id": "85ce98df-4f79-4ddb-8400-9f8e0579c6b1",
   "metadata": {},
   "source": [
    "---\n",
    "# Fig.1D"
   ]
  },
  {
   "cell_type": "code",
   "execution_count": 2,
   "id": "f711965e-41e0-4555-b5d3-cb51f6e40ad9",
   "metadata": {},
   "outputs": [],
   "source": [
    "data_file = 'data_for_statistical_analyses.xlsx'\n",
    "# Specify the Worksheet Tabs in the Excel file. From left to right, the number start from 0.\n",
    "sheet_number = 0"
   ]
  },
  {
   "cell_type": "code",
   "execution_count": 3,
   "id": "d5906280-e8da-4380-a0fc-c3e5ded02a2d",
   "metadata": {},
   "outputs": [
    {
     "data": {
      "text/html": [
       "<div>\n",
       "<style scoped>\n",
       "    .dataframe tbody tr th:only-of-type {\n",
       "        vertical-align: middle;\n",
       "    }\n",
       "\n",
       "    .dataframe tbody tr th {\n",
       "        vertical-align: top;\n",
       "    }\n",
       "\n",
       "    .dataframe thead th {\n",
       "        text-align: right;\n",
       "    }\n",
       "</style>\n",
       "<table border=\"1\" class=\"dataframe\">\n",
       "  <thead>\n",
       "    <tr style=\"text-align: right;\">\n",
       "      <th></th>\n",
       "      <th>males_visible</th>\n",
       "      <th>females_visiblr</th>\n",
       "      <th>males_IR</th>\n",
       "      <th>females_IR</th>\n",
       "    </tr>\n",
       "  </thead>\n",
       "  <tbody>\n",
       "    <tr>\n",
       "      <th>0</th>\n",
       "      <td>3.195655</td>\n",
       "      <td>0.770834</td>\n",
       "      <td>-0.465274</td>\n",
       "      <td>2.184694</td>\n",
       "    </tr>\n",
       "    <tr>\n",
       "      <th>1</th>\n",
       "      <td>2.423710</td>\n",
       "      <td>1.596709</td>\n",
       "      <td>1.772781</td>\n",
       "      <td>-0.744146</td>\n",
       "    </tr>\n",
       "    <tr>\n",
       "      <th>2</th>\n",
       "      <td>2.715654</td>\n",
       "      <td>1.921615</td>\n",
       "      <td>2.247868</td>\n",
       "      <td>0.485514</td>\n",
       "    </tr>\n",
       "    <tr>\n",
       "      <th>3</th>\n",
       "      <td>3.158930</td>\n",
       "      <td>0.151802</td>\n",
       "      <td>-0.388171</td>\n",
       "      <td>1.328554</td>\n",
       "    </tr>\n",
       "    <tr>\n",
       "      <th>4</th>\n",
       "      <td>2.069881</td>\n",
       "      <td>0.975387</td>\n",
       "      <td>-0.565355</td>\n",
       "      <td>-0.094647</td>\n",
       "    </tr>\n",
       "    <tr>\n",
       "      <th>5</th>\n",
       "      <td>3.344061</td>\n",
       "      <td>-1.150091</td>\n",
       "      <td>-0.170084</td>\n",
       "      <td>1.726250</td>\n",
       "    </tr>\n",
       "    <tr>\n",
       "      <th>6</th>\n",
       "      <td>0.915141</td>\n",
       "      <td>1.754925</td>\n",
       "      <td>-0.127953</td>\n",
       "      <td>-0.798594</td>\n",
       "    </tr>\n",
       "    <tr>\n",
       "      <th>7</th>\n",
       "      <td>3.081203</td>\n",
       "      <td>0.241169</td>\n",
       "      <td>-0.843152</td>\n",
       "      <td>-0.254499</td>\n",
       "    </tr>\n",
       "    <tr>\n",
       "      <th>8</th>\n",
       "      <td>1.142740</td>\n",
       "      <td>1.903826</td>\n",
       "      <td>0.168659</td>\n",
       "      <td>2.255607</td>\n",
       "    </tr>\n",
       "    <tr>\n",
       "      <th>9</th>\n",
       "      <td>1.784096</td>\n",
       "      <td>-0.528802</td>\n",
       "      <td>-0.604394</td>\n",
       "      <td>0.407547</td>\n",
       "    </tr>\n",
       "    <tr>\n",
       "      <th>10</th>\n",
       "      <td>0.784581</td>\n",
       "      <td>2.437512</td>\n",
       "      <td>-0.295135</td>\n",
       "      <td>0.266618</td>\n",
       "    </tr>\n",
       "    <tr>\n",
       "      <th>11</th>\n",
       "      <td>0.726277</td>\n",
       "      <td>1.937807</td>\n",
       "      <td>1.622629</td>\n",
       "      <td>2.208388</td>\n",
       "    </tr>\n",
       "    <tr>\n",
       "      <th>12</th>\n",
       "      <td>1.108811</td>\n",
       "      <td>0.414052</td>\n",
       "      <td>0.527369</td>\n",
       "      <td>0.220891</td>\n",
       "    </tr>\n",
       "    <tr>\n",
       "      <th>13</th>\n",
       "      <td>1.868718</td>\n",
       "      <td>-0.272479</td>\n",
       "      <td>1.612837</td>\n",
       "      <td>-0.248736</td>\n",
       "    </tr>\n",
       "    <tr>\n",
       "      <th>14</th>\n",
       "      <td>1.091982</td>\n",
       "      <td>2.381392</td>\n",
       "      <td>NaN</td>\n",
       "      <td>NaN</td>\n",
       "    </tr>\n",
       "    <tr>\n",
       "      <th>15</th>\n",
       "      <td>3.216987</td>\n",
       "      <td>1.624303</td>\n",
       "      <td>NaN</td>\n",
       "      <td>NaN</td>\n",
       "    </tr>\n",
       "    <tr>\n",
       "      <th>16</th>\n",
       "      <td>2.190387</td>\n",
       "      <td>NaN</td>\n",
       "      <td>NaN</td>\n",
       "      <td>NaN</td>\n",
       "    </tr>\n",
       "  </tbody>\n",
       "</table>\n",
       "</div>"
      ],
      "text/plain": [
       "    males_visible  females_visiblr  males_IR  females_IR\n",
       "0        3.195655         0.770834 -0.465274    2.184694\n",
       "1        2.423710         1.596709  1.772781   -0.744146\n",
       "2        2.715654         1.921615  2.247868    0.485514\n",
       "3        3.158930         0.151802 -0.388171    1.328554\n",
       "4        2.069881         0.975387 -0.565355   -0.094647\n",
       "5        3.344061        -1.150091 -0.170084    1.726250\n",
       "6        0.915141         1.754925 -0.127953   -0.798594\n",
       "7        3.081203         0.241169 -0.843152   -0.254499\n",
       "8        1.142740         1.903826  0.168659    2.255607\n",
       "9        1.784096        -0.528802 -0.604394    0.407547\n",
       "10       0.784581         2.437512 -0.295135    0.266618\n",
       "11       0.726277         1.937807  1.622629    2.208388\n",
       "12       1.108811         0.414052  0.527369    0.220891\n",
       "13       1.868718        -0.272479  1.612837   -0.248736\n",
       "14       1.091982         2.381392       NaN         NaN\n",
       "15       3.216987         1.624303       NaN         NaN\n",
       "16       2.190387              NaN       NaN         NaN"
      ]
     },
     "execution_count": 3,
     "metadata": {},
     "output_type": "execute_result"
    }
   ],
   "source": [
    "synch_figures =  pd.read_excel(data_file,\n",
    "                              sheet_name=sheet_number,\n",
    "                              header=0,\n",
    "                              index_col=False,\n",
    "                              keep_default_na=True\n",
    "                              )\n",
    "synch_figures"
   ]
  },
  {
   "cell_type": "code",
   "execution_count": 4,
   "id": "4da235f6-9425-434e-aea8-db32c2d99b12",
   "metadata": {
    "tags": []
   },
   "outputs": [],
   "source": [
    "two_groups_unpaired = dabest.load(synch_figures, idx=(\"males_visible\", \"females_visiblr\"), resamples=5000)"
   ]
  },
  {
   "cell_type": "code",
   "execution_count": 5,
   "id": "02b86f40-1ad2-4357-aa26-4c2f36a3c9d1",
   "metadata": {},
   "outputs": [
    {
     "data": {
      "image/png": "[encoded data removed]",
      "text/plain": [
       "<Figure size 216x288 with 1 Axes>"
      ]
     },
     "metadata": {
      "needs_background": "light"
     },
     "output_type": "display_data"
    }
   ],
   "source": [
    "from matplotlib import pyplot as plt\n",
    "f, axx = plt.subplots(figsize=(3,4))\n",
    "two_groups_unpaired.mean_diff.plot(ax=axx, group_summaries='mean_sd',swarm_ylim=(-2, 4), swarm_label=\"synchrony\", float_contrast=True);\n",
    "plt.savefig(\"fig1d1.eps\", format='eps', dpi=1000)"
   ]
  },
  {
   "cell_type": "code",
   "execution_count": 6,
   "id": "350aa5d1-83f4-45ee-bd5f-7045ccdcfaa3",
   "metadata": {},
   "outputs": [],
   "source": [
    "two_groups_unpaired = dabest.load(synch_figures, idx=(\"males_IR\",\"females_IR\"), resamples=5000)"
   ]
  },
  {
   "cell_type": "code",
   "execution_count": 7,
   "id": "239a8b50-70d1-4c67-a62b-851be78c0ed9",
   "metadata": {},
   "outputs": [
    {
     "data": {
      "image/png": "[encoded data removed]",
      "text/plain": [
       "<Figure size 216x288 with 1 Axes>"
      ]
     },
     "metadata": {
      "needs_background": "light"
     },
     "output_type": "display_data"
    }
   ],
   "source": [
    "from matplotlib import pyplot as plt\n",
    "f, axx = plt.subplots(figsize=(3,4))\n",
    "two_groups_unpaired.mean_diff.plot(ax=axx, group_summaries='mean_sd',swarm_ylim=(-2, 4), swarm_label=\"synchrony\", float_contrast=True);\n",
    "plt.savefig(\"fig1d2.eps\", format='eps', dpi=1000)"
   ]
  },
  {
   "cell_type": "markdown",
   "id": "0613650b-dcc1-4f3d-a266-869947570490",
   "metadata": {},
   "source": [
    "---\n",
    "# Fig.2C"
   ]
  },
  {
   "cell_type": "code",
   "execution_count": 8,
   "id": "8aba659f-37c4-425d-9fd8-9cd0f91e2875",
   "metadata": {
    "tags": []
   },
   "outputs": [],
   "source": [
    "data_file = 'data_for_statistical_analyses.xlsx'\n",
    "# Specify the Worksheet Tabs in the Excel file. From left to right, the number start from 0.\n",
    "sheet_number = 1"
   ]
  },
  {
   "cell_type": "code",
   "execution_count": 9,
   "id": "429bb61d-4105-4562-a38a-0ba4fbe4b17c",
   "metadata": {
    "tags": []
   },
   "outputs": [
    {
     "data": {
      "text/html": [
       "<div>\n",
       "<style scoped>\n",
       "    .dataframe tbody tr th:only-of-type {\n",
       "        vertical-align: middle;\n",
       "    }\n",
       "\n",
       "    .dataframe tbody tr th {\n",
       "        vertical-align: top;\n",
       "    }\n",
       "\n",
       "    .dataframe thead th {\n",
       "        text-align: right;\n",
       "    }\n",
       "</style>\n",
       "<table border=\"1\" class=\"dataframe\">\n",
       "  <thead>\n",
       "    <tr style=\"text-align: right;\">\n",
       "      <th></th>\n",
       "      <th>vehicle_PFC</th>\n",
       "      <th>muscimol_PFC</th>\n",
       "    </tr>\n",
       "  </thead>\n",
       "  <tbody>\n",
       "    <tr>\n",
       "      <th>0</th>\n",
       "      <td>-0.059979</td>\n",
       "      <td>-0.982730</td>\n",
       "    </tr>\n",
       "    <tr>\n",
       "      <th>1</th>\n",
       "      <td>3.939691</td>\n",
       "      <td>1.590202</td>\n",
       "    </tr>\n",
       "    <tr>\n",
       "      <th>2</th>\n",
       "      <td>3.493658</td>\n",
       "      <td>2.922574</td>\n",
       "    </tr>\n",
       "    <tr>\n",
       "      <th>3</th>\n",
       "      <td>2.029611</td>\n",
       "      <td>0.949106</td>\n",
       "    </tr>\n",
       "    <tr>\n",
       "      <th>4</th>\n",
       "      <td>0.440945</td>\n",
       "      <td>2.454143</td>\n",
       "    </tr>\n",
       "    <tr>\n",
       "      <th>5</th>\n",
       "      <td>2.899325</td>\n",
       "      <td>2.429283</td>\n",
       "    </tr>\n",
       "    <tr>\n",
       "      <th>6</th>\n",
       "      <td>1.883163</td>\n",
       "      <td>1.490079</td>\n",
       "    </tr>\n",
       "    <tr>\n",
       "      <th>7</th>\n",
       "      <td>4.967946</td>\n",
       "      <td>1.870395</td>\n",
       "    </tr>\n",
       "    <tr>\n",
       "      <th>8</th>\n",
       "      <td>1.505925</td>\n",
       "      <td>2.084176</td>\n",
       "    </tr>\n",
       "    <tr>\n",
       "      <th>9</th>\n",
       "      <td>NaN</td>\n",
       "      <td>2.788442</td>\n",
       "    </tr>\n",
       "  </tbody>\n",
       "</table>\n",
       "</div>"
      ],
      "text/plain": [
       "   vehicle_PFC  muscimol_PFC\n",
       "0    -0.059979     -0.982730\n",
       "1     3.939691      1.590202\n",
       "2     3.493658      2.922574\n",
       "3     2.029611      0.949106\n",
       "4     0.440945      2.454143\n",
       "5     2.899325      2.429283\n",
       "6     1.883163      1.490079\n",
       "7     4.967946      1.870395\n",
       "8     1.505925      2.084176\n",
       "9          NaN      2.788442"
      ]
     },
     "execution_count": 9,
     "metadata": {},
     "output_type": "execute_result"
    }
   ],
   "source": [
    "synch_figures =  pd.read_excel(data_file,\n",
    "                              sheet_name=sheet_number,\n",
    "                              header=0,\n",
    "                              index_col=False,\n",
    "                              keep_default_na=True\n",
    "                              )\n",
    "synch_figures"
   ]
  },
  {
   "cell_type": "code",
   "execution_count": 10,
   "id": "7c9cbc97-d2c1-4741-847d-5ebf22d49b85",
   "metadata": {
    "tags": []
   },
   "outputs": [],
   "source": [
    "two_groups_unpaired = dabest.load(synch_figures, idx=(\"vehicle_PFC\", \"muscimol_PFC\"), resamples=5000)"
   ]
  },
  {
   "cell_type": "code",
   "execution_count": 11,
   "id": "a4bff04b-fa1a-4f13-a7d7-0134179a8812",
   "metadata": {},
   "outputs": [
    {
     "data": {
      "image/png": "[encoded data removed]",
      "text/plain": [
       "<Figure size 216x288 with 1 Axes>"
      ]
     },
     "metadata": {
      "needs_background": "light"
     },
     "output_type": "display_data"
    }
   ],
   "source": [
    "from matplotlib import pyplot as plt\n",
    "f, axx = plt.subplots(figsize=(3,4))\n",
    "two_groups_unpaired.mean_diff.plot(raw_marker_size=10, es_marker_size=9,ax=axx, group_summaries='mean_sd', swarm_label=\"synchrony\", float_contrast=True);\n",
    "plt.savefig(\"fig2c.eps\", format='eps', dpi=1000)"
   ]
  },
  {
   "cell_type": "markdown",
   "id": "055fb6bb-45e9-45ae-91a3-2b148dcf9e53",
   "metadata": {},
   "source": [
    "---\n",
    "# Fig.2F"
   ]
  },
  {
   "cell_type": "code",
   "execution_count": 12,
   "id": "2af849b7-4000-40a9-97e3-5c644bf00b65",
   "metadata": {
    "tags": []
   },
   "outputs": [],
   "source": [
    "data_file = 'data_for_statistical_analyses.xlsx'\n",
    "# Specify the Worksheet Tabs in the Excel file. From left to right, the number start from 0.\n",
    "sheet_number = 2"
   ]
  },
  {
   "cell_type": "code",
   "execution_count": 13,
   "id": "d2054963-6495-4de4-8a8d-939135036ce1",
   "metadata": {
    "tags": []
   },
   "outputs": [
    {
     "data": {
      "text/html": [
       "<div>\n",
       "<style scoped>\n",
       "    .dataframe tbody tr th:only-of-type {\n",
       "        vertical-align: middle;\n",
       "    }\n",
       "\n",
       "    .dataframe tbody tr th {\n",
       "        vertical-align: top;\n",
       "    }\n",
       "\n",
       "    .dataframe thead th {\n",
       "        text-align: right;\n",
       "    }\n",
       "</style>\n",
       "<table border=\"1\" class=\"dataframe\">\n",
       "  <thead>\n",
       "    <tr style=\"text-align: right;\">\n",
       "      <th></th>\n",
       "      <th>vehicle_dHPC</th>\n",
       "      <th>muscimol_dHPC</th>\n",
       "    </tr>\n",
       "  </thead>\n",
       "  <tbody>\n",
       "    <tr>\n",
       "      <th>0</th>\n",
       "      <td>3.439591</td>\n",
       "      <td>3.595042</td>\n",
       "    </tr>\n",
       "    <tr>\n",
       "      <th>1</th>\n",
       "      <td>1.540554</td>\n",
       "      <td>1.769244</td>\n",
       "    </tr>\n",
       "    <tr>\n",
       "      <th>2</th>\n",
       "      <td>5.386744</td>\n",
       "      <td>4.022865</td>\n",
       "    </tr>\n",
       "    <tr>\n",
       "      <th>3</th>\n",
       "      <td>1.428948</td>\n",
       "      <td>-0.249019</td>\n",
       "    </tr>\n",
       "    <tr>\n",
       "      <th>4</th>\n",
       "      <td>1.900733</td>\n",
       "      <td>1.057256</td>\n",
       "    </tr>\n",
       "    <tr>\n",
       "      <th>5</th>\n",
       "      <td>1.253172</td>\n",
       "      <td>1.434922</td>\n",
       "    </tr>\n",
       "    <tr>\n",
       "      <th>6</th>\n",
       "      <td>0.825874</td>\n",
       "      <td>0.668213</td>\n",
       "    </tr>\n",
       "    <tr>\n",
       "      <th>7</th>\n",
       "      <td>1.832757</td>\n",
       "      <td>NaN</td>\n",
       "    </tr>\n",
       "  </tbody>\n",
       "</table>\n",
       "</div>"
      ],
      "text/plain": [
       "   vehicle_dHPC  muscimol_dHPC\n",
       "0      3.439591       3.595042\n",
       "1      1.540554       1.769244\n",
       "2      5.386744       4.022865\n",
       "3      1.428948      -0.249019\n",
       "4      1.900733       1.057256\n",
       "5      1.253172       1.434922\n",
       "6      0.825874       0.668213\n",
       "7      1.832757            NaN"
      ]
     },
     "execution_count": 13,
     "metadata": {},
     "output_type": "execute_result"
    }
   ],
   "source": [
    "synch_figures =  pd.read_excel(data_file,\n",
    "                              sheet_name=sheet_number,\n",
    "                              header=0,\n",
    "                              index_col=False,\n",
    "                              keep_default_na=True\n",
    "                              )\n",
    "synch_figures"
   ]
  },
  {
   "cell_type": "code",
   "execution_count": 14,
   "id": "7674f018-2a5e-41a0-9912-1bc28c5d5f9f",
   "metadata": {
    "tags": []
   },
   "outputs": [],
   "source": [
    "two_groups_unpaired = dabest.load(synch_figures, idx=(\"vehicle_dHPC\", \"muscimol_dHPC\"), resamples=5000)"
   ]
  },
  {
   "cell_type": "code",
   "execution_count": 15,
   "id": "5cce0c06-d0a5-4db4-945b-dbceca471a83",
   "metadata": {},
   "outputs": [
    {
     "data": {
      "image/png": "[encoded data removed]",
      "text/plain": [
       "<Figure size 216x288 with 1 Axes>"
      ]
     },
     "metadata": {
      "needs_background": "light"
     },
     "output_type": "display_data"
    }
   ],
   "source": [
    "from matplotlib import pyplot as plt\n",
    "f, axx = plt.subplots(figsize=(3,4))\n",
    "two_groups_unpaired.mean_diff.plot(raw_marker_size=10, es_marker_size=9,ax=axx, group_summaries='mean_sd', swarm_label=\"synchrony\", float_contrast=True);\n",
    "plt.savefig(\"fig2f.eps\", format='eps', dpi=1000)"
   ]
  },
  {
   "cell_type": "markdown",
   "id": "46651bb8-e8ab-4e68-b162-e90825278770",
   "metadata": {
    "tags": []
   },
   "source": [
    "---\n",
    "# Fig.2I"
   ]
  },
  {
   "cell_type": "code",
   "execution_count": 16,
   "id": "a1131325-2cc3-454e-8708-a5f75ce559eb",
   "metadata": {
    "tags": []
   },
   "outputs": [],
   "source": [
    "data_file = 'data_for_statistical_analyses.xlsx'\n",
    "# Specify the Worksheet Tabs in the Excel file. From left to right, the number start from 0.\n",
    "sheet_number = 3"
   ]
  },
  {
   "cell_type": "code",
   "execution_count": 17,
   "id": "619d77a2-037b-42c6-a35f-0619cb382be3",
   "metadata": {
    "tags": []
   },
   "outputs": [
    {
     "data": {
      "text/html": [
       "<div>\n",
       "<style scoped>\n",
       "    .dataframe tbody tr th:only-of-type {\n",
       "        vertical-align: middle;\n",
       "    }\n",
       "\n",
       "    .dataframe tbody tr th {\n",
       "        vertical-align: top;\n",
       "    }\n",
       "\n",
       "    .dataframe thead th {\n",
       "        text-align: right;\n",
       "    }\n",
       "</style>\n",
       "<table border=\"1\" class=\"dataframe\">\n",
       "  <thead>\n",
       "    <tr style=\"text-align: right;\">\n",
       "      <th></th>\n",
       "      <th>vehicle_vHPC</th>\n",
       "      <th>muscimol_vHPC</th>\n",
       "    </tr>\n",
       "  </thead>\n",
       "  <tbody>\n",
       "    <tr>\n",
       "      <th>0</th>\n",
       "      <td>1.684186</td>\n",
       "      <td>1.007815</td>\n",
       "    </tr>\n",
       "    <tr>\n",
       "      <th>1</th>\n",
       "      <td>1.820251</td>\n",
       "      <td>-0.919060</td>\n",
       "    </tr>\n",
       "    <tr>\n",
       "      <th>2</th>\n",
       "      <td>1.788796</td>\n",
       "      <td>1.137708</td>\n",
       "    </tr>\n",
       "    <tr>\n",
       "      <th>3</th>\n",
       "      <td>1.099301</td>\n",
       "      <td>1.179764</td>\n",
       "    </tr>\n",
       "    <tr>\n",
       "      <th>4</th>\n",
       "      <td>2.607199</td>\n",
       "      <td>0.802585</td>\n",
       "    </tr>\n",
       "    <tr>\n",
       "      <th>5</th>\n",
       "      <td>1.374311</td>\n",
       "      <td>-1.007064</td>\n",
       "    </tr>\n",
       "    <tr>\n",
       "      <th>6</th>\n",
       "      <td>0.178715</td>\n",
       "      <td>0.503479</td>\n",
       "    </tr>\n",
       "    <tr>\n",
       "      <th>7</th>\n",
       "      <td>2.553736</td>\n",
       "      <td>-0.697222</td>\n",
       "    </tr>\n",
       "  </tbody>\n",
       "</table>\n",
       "</div>"
      ],
      "text/plain": [
       "   vehicle_vHPC  muscimol_vHPC\n",
       "0      1.684186       1.007815\n",
       "1      1.820251      -0.919060\n",
       "2      1.788796       1.137708\n",
       "3      1.099301       1.179764\n",
       "4      2.607199       0.802585\n",
       "5      1.374311      -1.007064\n",
       "6      0.178715       0.503479\n",
       "7      2.553736      -0.697222"
      ]
     },
     "execution_count": 17,
     "metadata": {},
     "output_type": "execute_result"
    }
   ],
   "source": [
    "synch_figures =  pd.read_excel(data_file,\n",
    "                              sheet_name=sheet_number,\n",
    "                              header=0,\n",
    "                              index_col=False,\n",
    "                              keep_default_na=True\n",
    "                              )\n",
    "synch_figures"
   ]
  },
  {
   "cell_type": "code",
   "execution_count": 18,
   "id": "dc38a484-d9ce-4425-8fab-551303b89d1a",
   "metadata": {
    "tags": []
   },
   "outputs": [],
   "source": [
    "two_groups_unpaired = dabest.load(synch_figures, idx=(\"vehicle_vHPC\", \"muscimol_vHPC\"), resamples=5000)"
   ]
  },
  {
   "cell_type": "code",
   "execution_count": 19,
   "id": "5ba81482-ddfc-43df-89ce-6d98ae48a09c",
   "metadata": {},
   "outputs": [
    {
     "data": {
      "image/png": "[encoded data removed]",
      "text/plain": [
       "<Figure size 216x288 with 1 Axes>"
      ]
     },
     "metadata": {
      "needs_background": "light"
     },
     "output_type": "display_data"
    }
   ],
   "source": [
    "from matplotlib import pyplot as plt\n",
    "f, axx = plt.subplots(figsize=(3,4))\n",
    "two_groups_unpaired.mean_diff.plot(raw_marker_size=10, es_marker_size=9,ax=axx, group_summaries='mean_sd',swarm_label=\"synchrony\", float_contrast=True);\n",
    "plt.savefig(\"fig2i.eps\", format='eps', dpi=1000)"
   ]
  },
  {
   "cell_type": "markdown",
   "id": "e7110715-63fa-4419-85c2-dbb7961f5932",
   "metadata": {
    "tags": []
   },
   "source": [
    "---\n",
    "# Fig.3D upper"
   ]
  },
  {
   "cell_type": "code",
   "execution_count": 20,
   "id": "0c4e3c09-4adf-4159-a262-ee72ab027250",
   "metadata": {
    "tags": []
   },
   "outputs": [],
   "source": [
    "data_file = 'data_for_statistical_analyses.xlsx'\n",
    "# Specify the Worksheet Tabs in the Excel file. From left to right, the number start from 0.\n",
    "sheet_number = 4"
   ]
  },
  {
   "cell_type": "code",
   "execution_count": 21,
   "id": "2e38db13-d416-47dc-9634-c4a6a8344fb7",
   "metadata": {
    "tags": []
   },
   "outputs": [
    {
     "data": {
      "text/html": [
       "<div>\n",
       "<style scoped>\n",
       "    .dataframe tbody tr th:only-of-type {\n",
       "        vertical-align: middle;\n",
       "    }\n",
       "\n",
       "    .dataframe tbody tr th {\n",
       "        vertical-align: top;\n",
       "    }\n",
       "\n",
       "    .dataframe thead th {\n",
       "        text-align: right;\n",
       "    }\n",
       "</style>\n",
       "<table border=\"1\" class=\"dataframe\">\n",
       "  <thead>\n",
       "    <tr style=\"text-align: right;\">\n",
       "      <th></th>\n",
       "      <th>vehicle</th>\n",
       "      <th>CNO</th>\n",
       "      <th>ID</th>\n",
       "    </tr>\n",
       "  </thead>\n",
       "  <tbody>\n",
       "    <tr>\n",
       "      <th>0</th>\n",
       "      <td>2.745036</td>\n",
       "      <td>-0.871509</td>\n",
       "      <td>1</td>\n",
       "    </tr>\n",
       "    <tr>\n",
       "      <th>1</th>\n",
       "      <td>1.873451</td>\n",
       "      <td>0.894894</td>\n",
       "      <td>2</td>\n",
       "    </tr>\n",
       "    <tr>\n",
       "      <th>2</th>\n",
       "      <td>1.900466</td>\n",
       "      <td>0.346963</td>\n",
       "      <td>3</td>\n",
       "    </tr>\n",
       "    <tr>\n",
       "      <th>3</th>\n",
       "      <td>1.506478</td>\n",
       "      <td>0.786214</td>\n",
       "      <td>4</td>\n",
       "    </tr>\n",
       "    <tr>\n",
       "      <th>4</th>\n",
       "      <td>4.663438</td>\n",
       "      <td>2.360864</td>\n",
       "      <td>5</td>\n",
       "    </tr>\n",
       "    <tr>\n",
       "      <th>5</th>\n",
       "      <td>0.613709</td>\n",
       "      <td>3.046542</td>\n",
       "      <td>6</td>\n",
       "    </tr>\n",
       "    <tr>\n",
       "      <th>6</th>\n",
       "      <td>1.501024</td>\n",
       "      <td>0.573216</td>\n",
       "      <td>7</td>\n",
       "    </tr>\n",
       "    <tr>\n",
       "      <th>7</th>\n",
       "      <td>0.842473</td>\n",
       "      <td>-0.533173</td>\n",
       "      <td>8</td>\n",
       "    </tr>\n",
       "    <tr>\n",
       "      <th>8</th>\n",
       "      <td>1.716206</td>\n",
       "      <td>0.120765</td>\n",
       "      <td>9</td>\n",
       "    </tr>\n",
       "    <tr>\n",
       "      <th>9</th>\n",
       "      <td>2.976541</td>\n",
       "      <td>1.467185</td>\n",
       "      <td>10</td>\n",
       "    </tr>\n",
       "    <tr>\n",
       "      <th>10</th>\n",
       "      <td>4.461843</td>\n",
       "      <td>-0.766037</td>\n",
       "      <td>11</td>\n",
       "    </tr>\n",
       "    <tr>\n",
       "      <th>11</th>\n",
       "      <td>0.795107</td>\n",
       "      <td>1.226760</td>\n",
       "      <td>12</td>\n",
       "    </tr>\n",
       "    <tr>\n",
       "      <th>12</th>\n",
       "      <td>0.900985</td>\n",
       "      <td>-1.674864</td>\n",
       "      <td>13</td>\n",
       "    </tr>\n",
       "  </tbody>\n",
       "</table>\n",
       "</div>"
      ],
      "text/plain": [
       "     vehicle       CNO  ID\n",
       "0   2.745036 -0.871509   1\n",
       "1   1.873451  0.894894   2\n",
       "2   1.900466  0.346963   3\n",
       "3   1.506478  0.786214   4\n",
       "4   4.663438  2.360864   5\n",
       "5   0.613709  3.046542   6\n",
       "6   1.501024  0.573216   7\n",
       "7   0.842473 -0.533173   8\n",
       "8   1.716206  0.120765   9\n",
       "9   2.976541  1.467185  10\n",
       "10  4.461843 -0.766037  11\n",
       "11  0.795107  1.226760  12\n",
       "12  0.900985 -1.674864  13"
      ]
     },
     "execution_count": 21,
     "metadata": {},
     "output_type": "execute_result"
    }
   ],
   "source": [
    "synch_figures =  pd.read_excel(data_file,\n",
    "                              sheet_name=sheet_number,\n",
    "                              header=0,\n",
    "                              index_col=False,\n",
    "                              keep_default_na=True\n",
    "                              )\n",
    "synch_figures"
   ]
  },
  {
   "cell_type": "code",
   "execution_count": 22,
   "id": "4445fd56-2fb3-496f-890a-16496e8b5f97",
   "metadata": {
    "tags": []
   },
   "outputs": [],
   "source": [
    "two_groups_paired = dabest.load(synch_figures, idx=(\"vehicle\", \"CNO\"), paired=True,id_col=\"ID\",resamples=5000)"
   ]
  },
  {
   "cell_type": "code",
   "execution_count": 23,
   "id": "754d685f-e8eb-41dd-911a-d13094e18849",
   "metadata": {},
   "outputs": [
    {
     "data": {
      "image/png": "[encoded data removed]",
      "text/plain": [
       "<Figure size 216x288 with 1 Axes>"
      ]
     },
     "metadata": {
      "needs_background": "light"
     },
     "output_type": "display_data"
    }
   ],
   "source": [
    "from matplotlib import pyplot as plt\n",
    "f, axx = plt.subplots(figsize=(3,4))\n",
    "two_groups_paired.mean_diff.plot(ax=axx, group_summaries='mean_sd',swarm_ylim=(-2, 6),swarm_label=\"synchrony\", float_contrast=True)\n",
    "plt.savefig(\"fig3d_up.eps\", format='eps', dpi=1000)"
   ]
  },
  {
   "cell_type": "markdown",
   "id": "6c873085-0095-464d-8a11-33babddf7740",
   "metadata": {
    "tags": []
   },
   "source": [
    "---\n",
    "# Fig.3D lower"
   ]
  },
  {
   "cell_type": "code",
   "execution_count": 24,
   "id": "0a79adb9-2a12-4ea1-8b6f-af2817538725",
   "metadata": {
    "tags": []
   },
   "outputs": [],
   "source": [
    "data_file = 'data_for_statistical_analyses.xlsx'\n",
    "# Specify the Worksheet Tabs in the Excel file. From left to right, the number start from 0.\n",
    "sheet_number = 5"
   ]
  },
  {
   "cell_type": "code",
   "execution_count": 25,
   "id": "eb9b4ebd-6df0-4352-a176-3990e84c186c",
   "metadata": {
    "tags": []
   },
   "outputs": [
    {
     "data": {
      "text/html": [
       "<div>\n",
       "<style scoped>\n",
       "    .dataframe tbody tr th:only-of-type {\n",
       "        vertical-align: middle;\n",
       "    }\n",
       "\n",
       "    .dataframe tbody tr th {\n",
       "        vertical-align: top;\n",
       "    }\n",
       "\n",
       "    .dataframe thead th {\n",
       "        text-align: right;\n",
       "    }\n",
       "</style>\n",
       "<table border=\"1\" class=\"dataframe\">\n",
       "  <thead>\n",
       "    <tr style=\"text-align: right;\">\n",
       "      <th></th>\n",
       "      <th>vehicle</th>\n",
       "      <th>CNO</th>\n",
       "      <th>ID</th>\n",
       "    </tr>\n",
       "  </thead>\n",
       "  <tbody>\n",
       "    <tr>\n",
       "      <th>0</th>\n",
       "      <td>1.078762</td>\n",
       "      <td>1.802431</td>\n",
       "      <td>1</td>\n",
       "    </tr>\n",
       "    <tr>\n",
       "      <th>1</th>\n",
       "      <td>2.503823</td>\n",
       "      <td>0.608026</td>\n",
       "      <td>2</td>\n",
       "    </tr>\n",
       "    <tr>\n",
       "      <th>2</th>\n",
       "      <td>0.627062</td>\n",
       "      <td>1.001520</td>\n",
       "      <td>3</td>\n",
       "    </tr>\n",
       "    <tr>\n",
       "      <th>3</th>\n",
       "      <td>1.662656</td>\n",
       "      <td>1.280156</td>\n",
       "      <td>4</td>\n",
       "    </tr>\n",
       "    <tr>\n",
       "      <th>4</th>\n",
       "      <td>2.122308</td>\n",
       "      <td>1.645427</td>\n",
       "      <td>5</td>\n",
       "    </tr>\n",
       "    <tr>\n",
       "      <th>5</th>\n",
       "      <td>1.220100</td>\n",
       "      <td>2.732651</td>\n",
       "      <td>6</td>\n",
       "    </tr>\n",
       "    <tr>\n",
       "      <th>6</th>\n",
       "      <td>2.026069</td>\n",
       "      <td>1.218580</td>\n",
       "      <td>7</td>\n",
       "    </tr>\n",
       "    <tr>\n",
       "      <th>7</th>\n",
       "      <td>1.899240</td>\n",
       "      <td>2.846697</td>\n",
       "      <td>8</td>\n",
       "    </tr>\n",
       "    <tr>\n",
       "      <th>8</th>\n",
       "      <td>1.317482</td>\n",
       "      <td>0.274185</td>\n",
       "      <td>9</td>\n",
       "    </tr>\n",
       "    <tr>\n",
       "      <th>9</th>\n",
       "      <td>3.611523</td>\n",
       "      <td>2.209836</td>\n",
       "      <td>10</td>\n",
       "    </tr>\n",
       "  </tbody>\n",
       "</table>\n",
       "</div>"
      ],
      "text/plain": [
       "    vehicle       CNO  ID\n",
       "0  1.078762  1.802431   1\n",
       "1  2.503823  0.608026   2\n",
       "2  0.627062  1.001520   3\n",
       "3  1.662656  1.280156   4\n",
       "4  2.122308  1.645427   5\n",
       "5  1.220100  2.732651   6\n",
       "6  2.026069  1.218580   7\n",
       "7  1.899240  2.846697   8\n",
       "8  1.317482  0.274185   9\n",
       "9  3.611523  2.209836  10"
      ]
     },
     "execution_count": 25,
     "metadata": {},
     "output_type": "execute_result"
    }
   ],
   "source": [
    "synch_figures =  pd.read_excel(data_file,\n",
    "                              sheet_name=sheet_number,\n",
    "                              header=0,\n",
    "                              index_col=False,\n",
    "                              keep_default_na=True\n",
    "                              )\n",
    "synch_figures"
   ]
  },
  {
   "cell_type": "code",
   "execution_count": 26,
   "id": "34387efb-e641-41a0-ab0f-d981ed7b5fc2",
   "metadata": {
    "tags": []
   },
   "outputs": [],
   "source": [
    "two_groups_paired = dabest.load(synch_figures, idx=(\"vehicle\", \"CNO\"), paired=True,id_col=\"ID\",resamples=5000)"
   ]
  },
  {
   "cell_type": "code",
   "execution_count": 27,
   "id": "f86a6bed-7b7c-4afd-8153-6add275a68be",
   "metadata": {},
   "outputs": [
    {
     "data": {
      "image/png": "[encoded data removed]",
      "text/plain": [
       "<Figure size 216x288 with 1 Axes>"
      ]
     },
     "metadata": {
      "needs_background": "light"
     },
     "output_type": "display_data"
    }
   ],
   "source": [
    "f, axx = plt.subplots(figsize=(3,4))\n",
    "two_groups_paired.mean_diff.plot(ax=axx, group_summaries='mean_sd',swarm_ylim=(0, 4), swarm_label=\"synchrony\", float_contrast=True)\n",
    "plt.savefig(\"fig3d_low.eps\", format='eps', dpi=1000)"
   ]
  },
  {
   "cell_type": "markdown",
   "id": "01bb6dc6-2384-4be7-9352-a752360da7a0",
   "metadata": {},
   "source": [
    "---\n",
    "All figures are exported as eps files and assembled in Adobe Illustrator."
   ]
  }
 ],
 "metadata": {
  "kernelspec": {
   "display_name": "Python 3",
   "language": "python",
   "name": "python3"
  },
  "language_info": {
   "codemirror_mode": {
    "name": "ipython",
    "version": 3
   },
   "file_extension": ".py",
   "mimetype": "text/x-python",
   "name": "python",
   "nbconvert_exporter": "python",
   "pygments_lexer": "ipython3",
   "version": "3.8.8"
  }
 },
 "nbformat": 4,
 "nbformat_minor": 5
}
