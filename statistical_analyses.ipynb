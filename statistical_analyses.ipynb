{
 "cells": [
  {
   "cell_type": "markdown",
   "id": "22479a26-be67-46b0-83dc-a61c72e14d69",
   "metadata": {},
   "source": [
    "DABEST and permuco\n",
    "https://edspace.american.edu/openbehavior/project/dabest-and-permuco/\n",
    "\n",
    "ACCLAB/DABEST-python\n",
    "https://github.com/ACCLAB/DABEST-python\n",
    "\n",
    "DABEST and tutorials\n",
    "https://acclab.github.io/DABEST-python-docs/index.html\n",
    "\n",
    "Paper\n",
    "Moving beyond P values: data analysis with estimation graphics\n",
    "https://www.nature.com/articles/s41592-019-0470-3\n"
   ]
  },
  {
   "cell_type": "code",
   "execution_count": 15,
   "id": "6d637a4e-f065-4c16-91a1-b3779e05c6b2",
   "metadata": {
    "tags": []
   },
   "outputs": [
    {
     "name": "stdout",
     "output_type": "stream",
     "text": [
      "We're using DABEST v0.3.1\n"
     ]
    }
   ],
   "source": [
    "  import numpy as np\n",
    "  import pandas as pd\n",
    "  import dabest\n",
    "\n",
    "  print(\"We're using DABEST v{}\".format(dabest.__version__))"
   ]
  },
  {
   "cell_type": "markdown",
   "id": "85ce98df-4f79-4ddb-8400-9f8e0579c6b1",
   "metadata": {},
   "source": [
    "---\n",
    "# Fig.1D"
   ]
  },
  {
   "cell_type": "code",
   "execution_count": 11,
   "id": "f711965e-41e0-4555-b5d3-cb51f6e40ad9",
   "metadata": {},
   "outputs": [],
   "source": [
    "synch_figures_file = 'Synch_figures.xlsx'\n",
    "synch_figures =  pd.read_excel(synch_figures_file,\n",
    "                              sheet_name=0,\n",
    "                              header=0,\n",
    "                              index_col=False,\n",
    "                              keep_default_na=True\n",
    "                              )"
   ]
  },
  {
   "cell_type": "code",
   "execution_count": 12,
   "id": "d5906280-e8da-4380-a0fc-c3e5ded02a2d",
   "metadata": {},
   "outputs": [
    {
     "data": {
      "text/html": [
       "<div>\n",
       "<style scoped>\n",
       "    .dataframe tbody tr th:only-of-type {\n",
       "        vertical-align: middle;\n",
       "    }\n",
       "\n",
       "    .dataframe tbody tr th {\n",
       "        vertical-align: top;\n",
       "    }\n",
       "\n",
       "    .dataframe thead th {\n",
       "        text-align: right;\n",
       "    }\n",
       "</style>\n",
       "<table border=\"1\" class=\"dataframe\">\n",
       "  <thead>\n",
       "    <tr style=\"text-align: right;\">\n",
       "      <th></th>\n",
       "      <th>males_visible</th>\n",
       "      <th>females_visiblr</th>\n",
       "      <th>males_IR</th>\n",
       "      <th>females_IR</th>\n",
       "      <th>unpaired ttest</th>\n",
       "    </tr>\n",
       "  </thead>\n",
       "  <tbody>\n",
       "    <tr>\n",
       "      <th>0</th>\n",
       "      <td>3.195655</td>\n",
       "      <td>0.770834</td>\n",
       "      <td>-0.465274</td>\n",
       "      <td>2.184694</td>\n",
       "      <td>NaN</td>\n",
       "    </tr>\n",
       "    <tr>\n",
       "      <th>1</th>\n",
       "      <td>2.423710</td>\n",
       "      <td>1.596709</td>\n",
       "      <td>1.772781</td>\n",
       "      <td>-0.744146</td>\n",
       "      <td>NaN</td>\n",
       "    </tr>\n",
       "    <tr>\n",
       "      <th>2</th>\n",
       "      <td>2.715654</td>\n",
       "      <td>1.921615</td>\n",
       "      <td>2.247868</td>\n",
       "      <td>0.485514</td>\n",
       "      <td>NaN</td>\n",
       "    </tr>\n",
       "    <tr>\n",
       "      <th>3</th>\n",
       "      <td>3.158930</td>\n",
       "      <td>0.151802</td>\n",
       "      <td>-0.388171</td>\n",
       "      <td>1.328554</td>\n",
       "      <td>NaN</td>\n",
       "    </tr>\n",
       "    <tr>\n",
       "      <th>4</th>\n",
       "      <td>2.069881</td>\n",
       "      <td>0.975387</td>\n",
       "      <td>-0.565355</td>\n",
       "      <td>-0.094647</td>\n",
       "      <td>NaN</td>\n",
       "    </tr>\n",
       "    <tr>\n",
       "      <th>5</th>\n",
       "      <td>3.344061</td>\n",
       "      <td>-1.150091</td>\n",
       "      <td>-0.170084</td>\n",
       "      <td>1.726250</td>\n",
       "      <td>NaN</td>\n",
       "    </tr>\n",
       "    <tr>\n",
       "      <th>6</th>\n",
       "      <td>0.915141</td>\n",
       "      <td>1.754925</td>\n",
       "      <td>-0.127953</td>\n",
       "      <td>-0.798594</td>\n",
       "      <td>NaN</td>\n",
       "    </tr>\n",
       "    <tr>\n",
       "      <th>7</th>\n",
       "      <td>3.081203</td>\n",
       "      <td>0.241169</td>\n",
       "      <td>-0.843152</td>\n",
       "      <td>-0.254499</td>\n",
       "      <td>NaN</td>\n",
       "    </tr>\n",
       "    <tr>\n",
       "      <th>8</th>\n",
       "      <td>1.142740</td>\n",
       "      <td>1.903826</td>\n",
       "      <td>0.168659</td>\n",
       "      <td>2.255607</td>\n",
       "      <td>NaN</td>\n",
       "    </tr>\n",
       "    <tr>\n",
       "      <th>9</th>\n",
       "      <td>1.784096</td>\n",
       "      <td>-0.528802</td>\n",
       "      <td>-0.604394</td>\n",
       "      <td>0.407547</td>\n",
       "      <td>NaN</td>\n",
       "    </tr>\n",
       "    <tr>\n",
       "      <th>10</th>\n",
       "      <td>0.784581</td>\n",
       "      <td>2.437512</td>\n",
       "      <td>-0.295135</td>\n",
       "      <td>0.266618</td>\n",
       "      <td>NaN</td>\n",
       "    </tr>\n",
       "    <tr>\n",
       "      <th>11</th>\n",
       "      <td>0.726277</td>\n",
       "      <td>1.937807</td>\n",
       "      <td>1.622629</td>\n",
       "      <td>2.208388</td>\n",
       "      <td>NaN</td>\n",
       "    </tr>\n",
       "    <tr>\n",
       "      <th>12</th>\n",
       "      <td>1.108811</td>\n",
       "      <td>0.414052</td>\n",
       "      <td>0.527369</td>\n",
       "      <td>0.220891</td>\n",
       "      <td>NaN</td>\n",
       "    </tr>\n",
       "    <tr>\n",
       "      <th>13</th>\n",
       "      <td>1.868718</td>\n",
       "      <td>-0.272479</td>\n",
       "      <td>1.612837</td>\n",
       "      <td>-0.248736</td>\n",
       "      <td>NaN</td>\n",
       "    </tr>\n",
       "    <tr>\n",
       "      <th>14</th>\n",
       "      <td>1.091982</td>\n",
       "      <td>2.381392</td>\n",
       "      <td>NaN</td>\n",
       "      <td>NaN</td>\n",
       "      <td>NaN</td>\n",
       "    </tr>\n",
       "    <tr>\n",
       "      <th>15</th>\n",
       "      <td>3.216987</td>\n",
       "      <td>1.624303</td>\n",
       "      <td>NaN</td>\n",
       "      <td>NaN</td>\n",
       "      <td>NaN</td>\n",
       "    </tr>\n",
       "    <tr>\n",
       "      <th>16</th>\n",
       "      <td>2.190387</td>\n",
       "      <td>NaN</td>\n",
       "      <td>NaN</td>\n",
       "      <td>NaN</td>\n",
       "      <td>NaN</td>\n",
       "    </tr>\n",
       "  </tbody>\n",
       "</table>\n",
       "</div>"
      ],
      "text/plain": [
       "    males_visible  females_visiblr  males_IR  females_IR  unpaired ttest\n",
       "0        3.195655         0.770834 -0.465274    2.184694             NaN\n",
       "1        2.423710         1.596709  1.772781   -0.744146             NaN\n",
       "2        2.715654         1.921615  2.247868    0.485514             NaN\n",
       "3        3.158930         0.151802 -0.388171    1.328554             NaN\n",
       "4        2.069881         0.975387 -0.565355   -0.094647             NaN\n",
       "5        3.344061        -1.150091 -0.170084    1.726250             NaN\n",
       "6        0.915141         1.754925 -0.127953   -0.798594             NaN\n",
       "7        3.081203         0.241169 -0.843152   -0.254499             NaN\n",
       "8        1.142740         1.903826  0.168659    2.255607             NaN\n",
       "9        1.784096        -0.528802 -0.604394    0.407547             NaN\n",
       "10       0.784581         2.437512 -0.295135    0.266618             NaN\n",
       "11       0.726277         1.937807  1.622629    2.208388             NaN\n",
       "12       1.108811         0.414052  0.527369    0.220891             NaN\n",
       "13       1.868718        -0.272479  1.612837   -0.248736             NaN\n",
       "14       1.091982         2.381392       NaN         NaN             NaN\n",
       "15       3.216987         1.624303       NaN         NaN             NaN\n",
       "16       2.190387              NaN       NaN         NaN             NaN"
      ]
     },
     "execution_count": 12,
     "metadata": {},
     "output_type": "execute_result"
    }
   ],
   "source": [
    "synch_figures"
   ]
  },
  {
   "cell_type": "code",
   "execution_count": 18,
   "id": "4da235f6-9425-434e-aea8-db32c2d99b12",
   "metadata": {
    "tags": []
   },
   "outputs": [],
   "source": [
    "  two_groups_unpaired = dabest.load(synch_figures, idx=(\"males_visible\", \"females_visiblr\",\"males_IR\",\"females_IR\"), resamples=5000)"
   ]
  },
  {
   "cell_type": "code",
   "execution_count": 19,
   "id": "32b518ec-f5b2-4fe7-8423-948188416518",
   "metadata": {
    "tags": []
   },
   "outputs": [
    {
     "name": "stderr",
     "output_type": "stream",
     "text": [
      "C:\\Users\\User\\anaconda3\\envs\\dabest\\lib\\site-packages\\IPython\\core\\pylabtools.py:132: UserWarning: This figure includes Axes that are not compatible with tight_layout, so results might be incorrect.\n",
      "  fig.canvas.print_figure(bytes_io, **kw)\n"
     ]
    },
    {
     "data": {
      "image/png": "[encoded data removed]",
      "text/plain": [
       "<Figure size 600x600 with 2 Axes>"
      ]
     },
     "metadata": {
      "needs_background": "light"
     },
     "output_type": "display_data"
    }
   ],
   "source": [
    "two_groups_unpaired.mean_diff.plot();"
   ]
  },
  {
   "cell_type": "markdown",
   "id": "0613650b-dcc1-4f3d-a266-869947570490",
   "metadata": {},
   "source": [
    "---\n",
    "# Fig.2C"
   ]
  },
  {
   "cell_type": "code",
   "execution_count": 24,
   "id": "8aba659f-37c4-425d-9fd8-9cd0f91e2875",
   "metadata": {},
   "outputs": [],
   "source": [
    "synch_figures_file = 'Synch_figures.xlsx'\n",
    "synch_figures =  pd.read_excel(synch_figures_file,\n",
    "                              sheet_name=1,\n",
    "                              header=0,\n",
    "                              index_col=False,\n",
    "                              keep_default_na=True\n",
    "                              )"
   ]
  },
  {
   "cell_type": "code",
   "execution_count": 25,
   "id": "43ca6fab-24f7-43fa-83d1-015be5ce24be",
   "metadata": {},
   "outputs": [
    {
     "data": {
      "text/html": [
       "<div>\n",
       "<style scoped>\n",
       "    .dataframe tbody tr th:only-of-type {\n",
       "        vertical-align: middle;\n",
       "    }\n",
       "\n",
       "    .dataframe tbody tr th {\n",
       "        vertical-align: top;\n",
       "    }\n",
       "\n",
       "    .dataframe thead th {\n",
       "        text-align: right;\n",
       "    }\n",
       "</style>\n",
       "<table border=\"1\" class=\"dataframe\">\n",
       "  <thead>\n",
       "    <tr style=\"text-align: right;\">\n",
       "      <th></th>\n",
       "      <th>vehicle_PFC</th>\n",
       "      <th>muscimol_PFC</th>\n",
       "      <th>unpaired ttest</th>\n",
       "    </tr>\n",
       "  </thead>\n",
       "  <tbody>\n",
       "    <tr>\n",
       "      <th>0</th>\n",
       "      <td>-0.059979</td>\n",
       "      <td>-0.982730</td>\n",
       "      <td>NaN</td>\n",
       "    </tr>\n",
       "    <tr>\n",
       "      <th>1</th>\n",
       "      <td>3.939691</td>\n",
       "      <td>1.590202</td>\n",
       "      <td>NaN</td>\n",
       "    </tr>\n",
       "    <tr>\n",
       "      <th>2</th>\n",
       "      <td>3.493658</td>\n",
       "      <td>2.922574</td>\n",
       "      <td>NaN</td>\n",
       "    </tr>\n",
       "    <tr>\n",
       "      <th>3</th>\n",
       "      <td>2.029611</td>\n",
       "      <td>0.949106</td>\n",
       "      <td>NaN</td>\n",
       "    </tr>\n",
       "    <tr>\n",
       "      <th>4</th>\n",
       "      <td>0.440945</td>\n",
       "      <td>2.454143</td>\n",
       "      <td>NaN</td>\n",
       "    </tr>\n",
       "    <tr>\n",
       "      <th>5</th>\n",
       "      <td>2.899325</td>\n",
       "      <td>2.429283</td>\n",
       "      <td>NaN</td>\n",
       "    </tr>\n",
       "    <tr>\n",
       "      <th>6</th>\n",
       "      <td>1.883163</td>\n",
       "      <td>1.490079</td>\n",
       "      <td>NaN</td>\n",
       "    </tr>\n",
       "    <tr>\n",
       "      <th>7</th>\n",
       "      <td>4.967946</td>\n",
       "      <td>1.870395</td>\n",
       "      <td>NaN</td>\n",
       "    </tr>\n",
       "    <tr>\n",
       "      <th>8</th>\n",
       "      <td>1.505925</td>\n",
       "      <td>2.084176</td>\n",
       "      <td>NaN</td>\n",
       "    </tr>\n",
       "    <tr>\n",
       "      <th>9</th>\n",
       "      <td>NaN</td>\n",
       "      <td>2.788442</td>\n",
       "      <td>NaN</td>\n",
       "    </tr>\n",
       "  </tbody>\n",
       "</table>\n",
       "</div>"
      ],
      "text/plain": [
       "   vehicle_PFC  muscimol_PFC  unpaired ttest\n",
       "0    -0.059979     -0.982730             NaN\n",
       "1     3.939691      1.590202             NaN\n",
       "2     3.493658      2.922574             NaN\n",
       "3     2.029611      0.949106             NaN\n",
       "4     0.440945      2.454143             NaN\n",
       "5     2.899325      2.429283             NaN\n",
       "6     1.883163      1.490079             NaN\n",
       "7     4.967946      1.870395             NaN\n",
       "8     1.505925      2.084176             NaN\n",
       "9          NaN      2.788442             NaN"
      ]
     },
     "execution_count": 25,
     "metadata": {},
     "output_type": "execute_result"
    }
   ],
   "source": [
    "synch_figures"
   ]
  },
  {
   "cell_type": "code",
   "execution_count": 26,
   "id": "7c9cbc97-d2c1-4741-847d-5ebf22d49b85",
   "metadata": {
    "tags": []
   },
   "outputs": [],
   "source": [
    "  two_groups_unpaired = dabest.load(synch_figures, idx=(\"vehicle_PFC\", \"muscimol_PFC\"), resamples=5000)"
   ]
  },
  {
   "cell_type": "code",
   "execution_count": 27,
   "id": "6c1a794f-d1df-41f2-ad72-f1eb93554428",
   "metadata": {
    "tags": []
   },
   "outputs": [
    {
     "data": {
      "image/png": "[encoded data removed]",
      "text/plain": [
       "<Figure size 500x400 with 2 Axes>"
      ]
     },
     "metadata": {
      "needs_background": "light"
     },
     "output_type": "display_data"
    }
   ],
   "source": [
    "two_groups_unpaired.mean_diff.plot();"
   ]
  },
  {
   "cell_type": "markdown",
   "id": "055fb6bb-45e9-45ae-91a3-2b148dcf9e53",
   "metadata": {},
   "source": [
    "---\n",
    "# Fig.2F"
   ]
  },
  {
   "cell_type": "code",
   "execution_count": 30,
   "id": "7fde92ea-fdaa-4c4a-ae9f-9e919ce09402",
   "metadata": {},
   "outputs": [],
   "source": [
    "synch_figures_file = 'Synch_figures.xlsx'\n",
    "synch_figures =  pd.read_excel(synch_figures_file,\n",
    "                              sheet_name=2,\n",
    "                              header=0,\n",
    "                              index_col=False,\n",
    "                              keep_default_na=True\n",
    "                              )"
   ]
  },
  {
   "cell_type": "code",
   "execution_count": 31,
   "id": "98ba696f-8077-46c8-b8a2-333900f2260e",
   "metadata": {},
   "outputs": [
    {
     "data": {
      "text/html": [
       "<div>\n",
       "<style scoped>\n",
       "    .dataframe tbody tr th:only-of-type {\n",
       "        vertical-align: middle;\n",
       "    }\n",
       "\n",
       "    .dataframe tbody tr th {\n",
       "        vertical-align: top;\n",
       "    }\n",
       "\n",
       "    .dataframe thead th {\n",
       "        text-align: right;\n",
       "    }\n",
       "</style>\n",
       "<table border=\"1\" class=\"dataframe\">\n",
       "  <thead>\n",
       "    <tr style=\"text-align: right;\">\n",
       "      <th></th>\n",
       "      <th>vehicle_dHPC</th>\n",
       "      <th>muscimol_dHPC</th>\n",
       "      <th>unpaired ttest</th>\n",
       "    </tr>\n",
       "  </thead>\n",
       "  <tbody>\n",
       "    <tr>\n",
       "      <th>0</th>\n",
       "      <td>3.439591</td>\n",
       "      <td>3.595042</td>\n",
       "      <td>NaN</td>\n",
       "    </tr>\n",
       "    <tr>\n",
       "      <th>1</th>\n",
       "      <td>1.540554</td>\n",
       "      <td>1.769244</td>\n",
       "      <td>NaN</td>\n",
       "    </tr>\n",
       "    <tr>\n",
       "      <th>2</th>\n",
       "      <td>5.386744</td>\n",
       "      <td>4.022865</td>\n",
       "      <td>NaN</td>\n",
       "    </tr>\n",
       "    <tr>\n",
       "      <th>3</th>\n",
       "      <td>1.428948</td>\n",
       "      <td>-0.249019</td>\n",
       "      <td>NaN</td>\n",
       "    </tr>\n",
       "    <tr>\n",
       "      <th>4</th>\n",
       "      <td>1.900733</td>\n",
       "      <td>1.057256</td>\n",
       "      <td>NaN</td>\n",
       "    </tr>\n",
       "    <tr>\n",
       "      <th>5</th>\n",
       "      <td>1.253172</td>\n",
       "      <td>1.434922</td>\n",
       "      <td>NaN</td>\n",
       "    </tr>\n",
       "    <tr>\n",
       "      <th>6</th>\n",
       "      <td>0.825874</td>\n",
       "      <td>0.668213</td>\n",
       "      <td>NaN</td>\n",
       "    </tr>\n",
       "    <tr>\n",
       "      <th>7</th>\n",
       "      <td>1.832757</td>\n",
       "      <td>NaN</td>\n",
       "      <td>NaN</td>\n",
       "    </tr>\n",
       "  </tbody>\n",
       "</table>\n",
       "</div>"
      ],
      "text/plain": [
       "   vehicle_dHPC  muscimol_dHPC  unpaired ttest\n",
       "0      3.439591       3.595042             NaN\n",
       "1      1.540554       1.769244             NaN\n",
       "2      5.386744       4.022865             NaN\n",
       "3      1.428948      -0.249019             NaN\n",
       "4      1.900733       1.057256             NaN\n",
       "5      1.253172       1.434922             NaN\n",
       "6      0.825874       0.668213             NaN\n",
       "7      1.832757            NaN             NaN"
      ]
     },
     "execution_count": 31,
     "metadata": {},
     "output_type": "execute_result"
    }
   ],
   "source": [
    "synch_figures"
   ]
  },
  {
   "cell_type": "code",
   "execution_count": 32,
   "id": "7674f018-2a5e-41a0-9912-1bc28c5d5f9f",
   "metadata": {
    "tags": []
   },
   "outputs": [],
   "source": [
    "  two_groups_unpaired = dabest.load(synch_figures, idx=(\"vehicle_dHPC\", \"muscimol_dHPC\"), resamples=5000)"
   ]
  },
  {
   "cell_type": "code",
   "execution_count": 33,
   "id": "e64c319b-b7f0-4394-b6fe-fe837a14164d",
   "metadata": {
    "tags": []
   },
   "outputs": [
    {
     "data": {
      "image/png": "[encoded data removed]",
      "text/plain": [
       "<Figure size 500x400 with 2 Axes>"
      ]
     },
     "metadata": {
      "needs_background": "light"
     },
     "output_type": "display_data"
    }
   ],
   "source": [
    "two_groups_unpaired.mean_diff.plot();"
   ]
  },
  {
   "cell_type": "markdown",
   "id": "46651bb8-e8ab-4e68-b162-e90825278770",
   "metadata": {
    "tags": []
   },
   "source": [
    "---\n",
    "# Fig.2I"
   ]
  },
  {
   "cell_type": "code",
   "execution_count": 36,
   "id": "42d7549c-31af-42c8-a9ff-5b41b0c94e33",
   "metadata": {},
   "outputs": [],
   "source": [
    "synch_figures_file = 'Synch_figures.xlsx'\n",
    "synch_figures =  pd.read_excel(synch_figures_file,\n",
    "                              sheet_name=3,\n",
    "                              header=0,\n",
    "                              index_col=False,\n",
    "                              keep_default_na=True\n",
    "                              )"
   ]
  },
  {
   "cell_type": "code",
   "execution_count": 37,
   "id": "f24e92e9-ed9a-417a-87fd-000189fa6ab0",
   "metadata": {},
   "outputs": [
    {
     "data": {
      "text/html": [
       "<div>\n",
       "<style scoped>\n",
       "    .dataframe tbody tr th:only-of-type {\n",
       "        vertical-align: middle;\n",
       "    }\n",
       "\n",
       "    .dataframe tbody tr th {\n",
       "        vertical-align: top;\n",
       "    }\n",
       "\n",
       "    .dataframe thead th {\n",
       "        text-align: right;\n",
       "    }\n",
       "</style>\n",
       "<table border=\"1\" class=\"dataframe\">\n",
       "  <thead>\n",
       "    <tr style=\"text-align: right;\">\n",
       "      <th></th>\n",
       "      <th>vehicle_vHPC</th>\n",
       "      <th>muscimol_vHPC</th>\n",
       "      <th>unpaired ttest</th>\n",
       "    </tr>\n",
       "  </thead>\n",
       "  <tbody>\n",
       "    <tr>\n",
       "      <th>0</th>\n",
       "      <td>1.684186</td>\n",
       "      <td>1.007815</td>\n",
       "      <td>NaN</td>\n",
       "    </tr>\n",
       "    <tr>\n",
       "      <th>1</th>\n",
       "      <td>1.820251</td>\n",
       "      <td>-0.919060</td>\n",
       "      <td>NaN</td>\n",
       "    </tr>\n",
       "    <tr>\n",
       "      <th>2</th>\n",
       "      <td>1.788796</td>\n",
       "      <td>1.137708</td>\n",
       "      <td>NaN</td>\n",
       "    </tr>\n",
       "    <tr>\n",
       "      <th>3</th>\n",
       "      <td>1.099301</td>\n",
       "      <td>1.179764</td>\n",
       "      <td>NaN</td>\n",
       "    </tr>\n",
       "    <tr>\n",
       "      <th>4</th>\n",
       "      <td>2.607199</td>\n",
       "      <td>0.802585</td>\n",
       "      <td>NaN</td>\n",
       "    </tr>\n",
       "    <tr>\n",
       "      <th>5</th>\n",
       "      <td>1.374311</td>\n",
       "      <td>-1.007064</td>\n",
       "      <td>NaN</td>\n",
       "    </tr>\n",
       "    <tr>\n",
       "      <th>6</th>\n",
       "      <td>0.178715</td>\n",
       "      <td>0.503479</td>\n",
       "      <td>NaN</td>\n",
       "    </tr>\n",
       "    <tr>\n",
       "      <th>7</th>\n",
       "      <td>2.553736</td>\n",
       "      <td>-0.697222</td>\n",
       "      <td>NaN</td>\n",
       "    </tr>\n",
       "  </tbody>\n",
       "</table>\n",
       "</div>"
      ],
      "text/plain": [
       "   vehicle_vHPC  muscimol_vHPC  unpaired ttest\n",
       "0      1.684186       1.007815             NaN\n",
       "1      1.820251      -0.919060             NaN\n",
       "2      1.788796       1.137708             NaN\n",
       "3      1.099301       1.179764             NaN\n",
       "4      2.607199       0.802585             NaN\n",
       "5      1.374311      -1.007064             NaN\n",
       "6      0.178715       0.503479             NaN\n",
       "7      2.553736      -0.697222             NaN"
      ]
     },
     "execution_count": 37,
     "metadata": {},
     "output_type": "execute_result"
    }
   ],
   "source": [
    "synch_figures"
   ]
  },
  {
   "cell_type": "code",
   "execution_count": 38,
   "id": "dc38a484-d9ce-4425-8fab-551303b89d1a",
   "metadata": {
    "tags": []
   },
   "outputs": [],
   "source": [
    "  two_groups_unpaired = dabest.load(synch_figures, idx=(\"vehicle_vHPC\", \"muscimol_vHPC\"), resamples=5000)"
   ]
  },
  {
   "cell_type": "code",
   "execution_count": 39,
   "id": "1579f96e-1b4f-445f-a495-8c9fd75235ed",
   "metadata": {
    "tags": []
   },
   "outputs": [
    {
     "data": {
      "image/png": "[encoded data removed]",
      "text/plain": [
       "<Figure size 500x400 with 2 Axes>"
      ]
     },
     "metadata": {
      "needs_background": "light"
     },
     "output_type": "display_data"
    }
   ],
   "source": [
    "two_groups_unpaired.mean_diff.plot();"
   ]
  },
  {
   "cell_type": "markdown",
   "id": "e7110715-63fa-4419-85c2-dbb7961f5932",
   "metadata": {
    "tags": []
   },
   "source": [
    "---\n",
    "# Fig.3D upper"
   ]
  },
  {
   "cell_type": "code",
   "execution_count": 44,
   "id": "d6532924-13d4-4ef0-b5bd-f25e257ba926",
   "metadata": {},
   "outputs": [],
   "source": [
    "synch_figures_file = 'Synch_figures.xlsx'\n",
    "synch_figures =  pd.read_excel(synch_figures_file,\n",
    "                              sheet_name=4,\n",
    "                              header=0,\n",
    "                              index_col=False,\n",
    "                              keep_default_na=True\n",
    "                              )"
   ]
  },
  {
   "cell_type": "code",
   "execution_count": 45,
   "id": "720fdb6f-93f0-4f8c-9401-ce95a3a19bad",
   "metadata": {},
   "outputs": [
    {
     "data": {
      "text/html": [
       "<div>\n",
       "<style scoped>\n",
       "    .dataframe tbody tr th:only-of-type {\n",
       "        vertical-align: middle;\n",
       "    }\n",
       "\n",
       "    .dataframe tbody tr th {\n",
       "        vertical-align: top;\n",
       "    }\n",
       "\n",
       "    .dataframe thead th {\n",
       "        text-align: right;\n",
       "    }\n",
       "</style>\n",
       "<table border=\"1\" class=\"dataframe\">\n",
       "  <thead>\n",
       "    <tr style=\"text-align: right;\">\n",
       "      <th></th>\n",
       "      <th>vehicle</th>\n",
       "      <th>CNO</th>\n",
       "      <th>ID</th>\n",
       "      <th>paired ttest</th>\n",
       "    </tr>\n",
       "  </thead>\n",
       "  <tbody>\n",
       "    <tr>\n",
       "      <th>0</th>\n",
       "      <td>2.745036</td>\n",
       "      <td>-0.871509</td>\n",
       "      <td>1</td>\n",
       "      <td>NaN</td>\n",
       "    </tr>\n",
       "    <tr>\n",
       "      <th>1</th>\n",
       "      <td>1.873451</td>\n",
       "      <td>0.894894</td>\n",
       "      <td>2</td>\n",
       "      <td>NaN</td>\n",
       "    </tr>\n",
       "    <tr>\n",
       "      <th>2</th>\n",
       "      <td>1.900466</td>\n",
       "      <td>0.346963</td>\n",
       "      <td>3</td>\n",
       "      <td>NaN</td>\n",
       "    </tr>\n",
       "    <tr>\n",
       "      <th>3</th>\n",
       "      <td>1.506478</td>\n",
       "      <td>0.786214</td>\n",
       "      <td>4</td>\n",
       "      <td>NaN</td>\n",
       "    </tr>\n",
       "    <tr>\n",
       "      <th>4</th>\n",
       "      <td>4.663438</td>\n",
       "      <td>2.360864</td>\n",
       "      <td>5</td>\n",
       "      <td>NaN</td>\n",
       "    </tr>\n",
       "    <tr>\n",
       "      <th>5</th>\n",
       "      <td>0.613709</td>\n",
       "      <td>3.046542</td>\n",
       "      <td>6</td>\n",
       "      <td>NaN</td>\n",
       "    </tr>\n",
       "    <tr>\n",
       "      <th>6</th>\n",
       "      <td>1.501024</td>\n",
       "      <td>0.573216</td>\n",
       "      <td>7</td>\n",
       "      <td>NaN</td>\n",
       "    </tr>\n",
       "    <tr>\n",
       "      <th>7</th>\n",
       "      <td>0.842473</td>\n",
       "      <td>-0.533173</td>\n",
       "      <td>8</td>\n",
       "      <td>NaN</td>\n",
       "    </tr>\n",
       "    <tr>\n",
       "      <th>8</th>\n",
       "      <td>1.716206</td>\n",
       "      <td>0.120765</td>\n",
       "      <td>9</td>\n",
       "      <td>NaN</td>\n",
       "    </tr>\n",
       "    <tr>\n",
       "      <th>9</th>\n",
       "      <td>2.976541</td>\n",
       "      <td>1.467185</td>\n",
       "      <td>10</td>\n",
       "      <td>NaN</td>\n",
       "    </tr>\n",
       "    <tr>\n",
       "      <th>10</th>\n",
       "      <td>4.461843</td>\n",
       "      <td>-0.766037</td>\n",
       "      <td>11</td>\n",
       "      <td>NaN</td>\n",
       "    </tr>\n",
       "    <tr>\n",
       "      <th>11</th>\n",
       "      <td>0.795107</td>\n",
       "      <td>1.226760</td>\n",
       "      <td>12</td>\n",
       "      <td>NaN</td>\n",
       "    </tr>\n",
       "    <tr>\n",
       "      <th>12</th>\n",
       "      <td>0.900985</td>\n",
       "      <td>-1.674864</td>\n",
       "      <td>13</td>\n",
       "      <td>NaN</td>\n",
       "    </tr>\n",
       "  </tbody>\n",
       "</table>\n",
       "</div>"
      ],
      "text/plain": [
       "     vehicle       CNO  ID  paired ttest\n",
       "0   2.745036 -0.871509   1           NaN\n",
       "1   1.873451  0.894894   2           NaN\n",
       "2   1.900466  0.346963   3           NaN\n",
       "3   1.506478  0.786214   4           NaN\n",
       "4   4.663438  2.360864   5           NaN\n",
       "5   0.613709  3.046542   6           NaN\n",
       "6   1.501024  0.573216   7           NaN\n",
       "7   0.842473 -0.533173   8           NaN\n",
       "8   1.716206  0.120765   9           NaN\n",
       "9   2.976541  1.467185  10           NaN\n",
       "10  4.461843 -0.766037  11           NaN\n",
       "11  0.795107  1.226760  12           NaN\n",
       "12  0.900985 -1.674864  13           NaN"
      ]
     },
     "execution_count": 45,
     "metadata": {},
     "output_type": "execute_result"
    }
   ],
   "source": [
    "synch_figures"
   ]
  },
  {
   "cell_type": "code",
   "execution_count": 48,
   "id": "a9880c58-2f18-43e9-9838-280e671e85f6",
   "metadata": {
    "tags": []
   },
   "outputs": [],
   "source": [
    "  two_groups_unpaired = dabest.load(synch_figures, idx=(\"vehicle\", \"CNO\"), paired=True,id_col=\"ID\",resamples=5000)"
   ]
  },
  {
   "cell_type": "code",
   "execution_count": 49,
   "id": "7b078a71-100c-49b9-900e-1b1888d60779",
   "metadata": {
    "tags": []
   },
   "outputs": [
    {
     "data": {
      "image/png": "[encoded data removed]",
      "text/plain": [
       "<Figure size 375x400 with 2 Axes>"
      ]
     },
     "metadata": {
      "needs_background": "light"
     },
     "output_type": "display_data"
    }
   ],
   "source": [
    "two_groups_unpaired.mean_diff.plot();"
   ]
  },
  {
   "cell_type": "markdown",
   "id": "6c873085-0095-464d-8a11-33babddf7740",
   "metadata": {
    "tags": []
   },
   "source": [
    "---\n",
    "# Fig.3D lower"
   ]
  },
  {
   "cell_type": "code",
   "execution_count": 50,
   "id": "e59978bc-4928-4d4c-b64d-bf1630b63824",
   "metadata": {},
   "outputs": [],
   "source": [
    "synch_figures_file = 'Synch_figures.xlsx'\n",
    "synch_figures =  pd.read_excel(synch_figures_file,\n",
    "                              sheet_name=5,\n",
    "                              header=0,\n",
    "                              index_col=False,\n",
    "                              keep_default_na=True\n",
    "                              )"
   ]
  },
  {
   "cell_type": "code",
   "execution_count": 51,
   "id": "ac06e5e8-1a9e-4e97-8b0f-b4de9b3da484",
   "metadata": {},
   "outputs": [
    {
     "data": {
      "text/html": [
       "<div>\n",
       "<style scoped>\n",
       "    .dataframe tbody tr th:only-of-type {\n",
       "        vertical-align: middle;\n",
       "    }\n",
       "\n",
       "    .dataframe tbody tr th {\n",
       "        vertical-align: top;\n",
       "    }\n",
       "\n",
       "    .dataframe thead th {\n",
       "        text-align: right;\n",
       "    }\n",
       "</style>\n",
       "<table border=\"1\" class=\"dataframe\">\n",
       "  <thead>\n",
       "    <tr style=\"text-align: right;\">\n",
       "      <th></th>\n",
       "      <th>vehicle</th>\n",
       "      <th>CNO</th>\n",
       "      <th>ID</th>\n",
       "      <th>paired ttest</th>\n",
       "    </tr>\n",
       "  </thead>\n",
       "  <tbody>\n",
       "    <tr>\n",
       "      <th>0</th>\n",
       "      <td>1.078762</td>\n",
       "      <td>1.802431</td>\n",
       "      <td>1</td>\n",
       "      <td>NaN</td>\n",
       "    </tr>\n",
       "    <tr>\n",
       "      <th>1</th>\n",
       "      <td>2.503823</td>\n",
       "      <td>0.608026</td>\n",
       "      <td>2</td>\n",
       "      <td>NaN</td>\n",
       "    </tr>\n",
       "    <tr>\n",
       "      <th>2</th>\n",
       "      <td>0.627062</td>\n",
       "      <td>1.001520</td>\n",
       "      <td>3</td>\n",
       "      <td>NaN</td>\n",
       "    </tr>\n",
       "    <tr>\n",
       "      <th>3</th>\n",
       "      <td>1.662656</td>\n",
       "      <td>1.280156</td>\n",
       "      <td>4</td>\n",
       "      <td>NaN</td>\n",
       "    </tr>\n",
       "    <tr>\n",
       "      <th>4</th>\n",
       "      <td>2.122308</td>\n",
       "      <td>1.645427</td>\n",
       "      <td>5</td>\n",
       "      <td>NaN</td>\n",
       "    </tr>\n",
       "    <tr>\n",
       "      <th>5</th>\n",
       "      <td>1.220100</td>\n",
       "      <td>2.732651</td>\n",
       "      <td>6</td>\n",
       "      <td>NaN</td>\n",
       "    </tr>\n",
       "    <tr>\n",
       "      <th>6</th>\n",
       "      <td>2.026069</td>\n",
       "      <td>1.218580</td>\n",
       "      <td>7</td>\n",
       "      <td>NaN</td>\n",
       "    </tr>\n",
       "    <tr>\n",
       "      <th>7</th>\n",
       "      <td>1.899240</td>\n",
       "      <td>2.846697</td>\n",
       "      <td>8</td>\n",
       "      <td>NaN</td>\n",
       "    </tr>\n",
       "    <tr>\n",
       "      <th>8</th>\n",
       "      <td>1.317482</td>\n",
       "      <td>0.274185</td>\n",
       "      <td>9</td>\n",
       "      <td>NaN</td>\n",
       "    </tr>\n",
       "    <tr>\n",
       "      <th>9</th>\n",
       "      <td>3.611523</td>\n",
       "      <td>2.209836</td>\n",
       "      <td>10</td>\n",
       "      <td>NaN</td>\n",
       "    </tr>\n",
       "  </tbody>\n",
       "</table>\n",
       "</div>"
      ],
      "text/plain": [
       "    vehicle       CNO  ID  paired ttest\n",
       "0  1.078762  1.802431   1           NaN\n",
       "1  2.503823  0.608026   2           NaN\n",
       "2  0.627062  1.001520   3           NaN\n",
       "3  1.662656  1.280156   4           NaN\n",
       "4  2.122308  1.645427   5           NaN\n",
       "5  1.220100  2.732651   6           NaN\n",
       "6  2.026069  1.218580   7           NaN\n",
       "7  1.899240  2.846697   8           NaN\n",
       "8  1.317482  0.274185   9           NaN\n",
       "9  3.611523  2.209836  10           NaN"
      ]
     },
     "execution_count": 51,
     "metadata": {},
     "output_type": "execute_result"
    }
   ],
   "source": [
    "synch_figures"
   ]
  },
  {
   "cell_type": "code",
   "execution_count": 52,
   "id": "3d3da844-df43-42ed-a8f8-e2f8c55d5d2c",
   "metadata": {
    "tags": []
   },
   "outputs": [],
   "source": [
    "  two_groups_unpaired = dabest.load(synch_figures, idx=(\"vehicle\", \"CNO\"), paired=True,id_col=\"ID\",resamples=5000)"
   ]
  },
  {
   "cell_type": "code",
   "execution_count": 53,
   "id": "863f1892-72f4-4899-b8e8-ec99999afb4d",
   "metadata": {
    "tags": []
   },
   "outputs": [
    {
     "data": {
      "image/png": "[encoded data removed]",
      "text/plain": [
       "<Figure size 375x400 with 2 Axes>"
      ]
     },
     "metadata": {
      "needs_background": "light"
     },
     "output_type": "display_data"
    }
   ],
   "source": [
    "two_groups_unpaired.mean_diff.plot();"
   ]
  }
 ],
 "metadata": {
  "kernelspec": {
   "display_name": "Python 3",
   "language": "python",
   "name": "python3"
  },
  "language_info": {
   "codemirror_mode": {
    "name": "ipython",
    "version": 3
   },
   "file_extension": ".py",
   "mimetype": "text/x-python",
   "name": "python",
   "nbconvert_exporter": "python",
   "pygments_lexer": "ipython3",
   "version": "3.8.8"
  }
 },
 "nbformat": 4,
 "nbformat_minor": 5
}
